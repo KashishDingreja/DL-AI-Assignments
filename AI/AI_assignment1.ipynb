{
  "nbformat": 4,
  "nbformat_minor": 0,
  "metadata": {
    "colab": {
      "private_outputs": true,
      "provenance": []
    },
    "kernelspec": {
      "name": "python3",
      "display_name": "Python 3"
    },
    "language_info": {
      "name": "python"
    }
  },
  "cells": [
    {
      "cell_type": "code",
      "execution_count": null,
      "metadata": {
        "id": "WzMYemeaI8sd"
      },
      "outputs": [],
      "source": [
        "goal_state = (1, 2, 3, 4, 5, 6, 7, 8, 0)\n"
      ]
    },
    {
      "cell_type": "code",
      "source": [
        "from collections import deque\n",
        "\n",
        "\n",
        "def is_goal(state):\n",
        "    return state == (1, 2, 3, 4, 5, 6, 7, 8, 0)\n",
        "\n",
        "\n",
        "def get_neighbors(state):\n",
        "    neighbors = []\n",
        "    index_of_zero = state.index(0)\n",
        "    row, col = divmod(index_of_zero, 3)\n",
        "\n",
        "\n",
        "    moves = {\n",
        "        'up': (-1, 0),\n",
        "        'down': (1, 0),\n",
        "        'left': (0, -1),\n",
        "        'right': (0, 1)\n",
        "    }\n",
        "\n",
        "\n",
        "    for direction, (row_offset, col_offset) in moves.items():\n",
        "        new_row, new_col = row + row_offset, col + col_offset\n",
        "        if 0 <= new_row < 3 and 0 <= new_col < 3:\n",
        "            new_index = new_row * 3 + new_col\n",
        "            new_state = list(state)\n",
        "            new_state[index_of_zero], new_state[new_index] = new_state[new_index], new_state[index_of_zero]\n",
        "            neighbors.append(tuple(new_state))\n",
        "\n",
        "    return neighbors\n"
      ],
      "metadata": {
        "id": "Tq08EaE-JFav"
      },
      "execution_count": null,
      "outputs": []
    },
    {
      "cell_type": "code",
      "source": [
        "def dfs(initial_state):\n",
        "    stack = [(initial_state, [])]\n",
        "    visited = set()\n",
        "\n",
        "    while stack:\n",
        "        state, path = stack.pop()\n",
        "\n",
        "        if is_goal(state):\n",
        "            return path\n",
        "\n",
        "        visited.add(state)\n",
        "\n",
        "        for neighbor in get_neighbors(state):\n",
        "            if neighbor not in visited:\n",
        "                stack.append((neighbor, path + [neighbor]))\n",
        "\n",
        "    return None"
      ],
      "metadata": {
        "id": "LKmRcN6CJLkp"
      },
      "execution_count": null,
      "outputs": []
    },
    {
      "cell_type": "code",
      "source": [
        "def bfs(initial_state):\n",
        "    queue = deque([(initial_state, [])])\n",
        "    visited = set()\n",
        "\n",
        "    while queue:\n",
        "        state, path = queue.popleft()\n",
        "\n",
        "        if is_goal(state):\n",
        "            return path\n",
        "\n",
        "        visited.add(state)\n",
        "\n",
        "        for neighbor in get_neighbors(state):\n",
        "            if neighbor not in visited:\n",
        "                visited.add(neighbor)\n",
        "                queue.append((neighbor, path + [neighbor]))\n",
        "\n",
        "    return None\n"
      ],
      "metadata": {
        "id": "mC4lBhBoJPUY"
      },
      "execution_count": null,
      "outputs": []
    },
    {
      "cell_type": "code",
      "source": [
        "initial_state = (1, 2, 3, 4, 5, 6, 7, 0, 8)\n",
        "\n",
        "# Solve using DFS\n",
        "dfs_solution = dfs(initial_state)\n",
        "print(\"DFS Solution:\", dfs_solution)\n",
        "\n",
        "# Solve using BFS\n",
        "bfs_solution = bfs(initial_state)\n",
        "print(\"BFS Solution:\", bfs_solution)"
      ],
      "metadata": {
        "id": "7WuOARicJWGp"
      },
      "execution_count": null,
      "outputs": []
    }
  ]
}
