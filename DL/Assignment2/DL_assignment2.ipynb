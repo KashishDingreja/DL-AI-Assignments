{
  "nbformat": 4,
  "nbformat_minor": 0,
  "metadata": {
    "colab": {
      "private_outputs": true,
      "provenance": []
    },
    "kernelspec": {
      "name": "python3",
      "display_name": "Python 3"
    },
    "language_info": {
      "name": "python"
    }
  },
  "cells": [
    {
      "cell_type": "code",
      "execution_count": null,
      "metadata": {
        "id": "eUC2a40hr0gI"
      },
      "outputs": [],
      "source": [
        "import cv2\n",
        "from google.colab.patches import cv2_imshow"
      ]
    },
    {
      "cell_type": "code",
      "source": [
        "img = cv2.imread('/content/car.jpeg')"
      ],
      "metadata": {
        "id": "ZD7LlYx7yDz-"
      },
      "execution_count": null,
      "outputs": []
    },
    {
      "cell_type": "code",
      "source": [
        "cv2_imshow(img)\n",
        "cv2.waitKey(0)"
      ],
      "metadata": {
        "id": "4QW1c8V0yj4a"
      },
      "execution_count": null,
      "outputs": []
    },
    {
      "cell_type": "code",
      "source": [
        "img1 = cv2.imread('/content/cat.jpg')\n"
      ],
      "metadata": {
        "id": "H4wXlaH43B0F"
      },
      "execution_count": null,
      "outputs": []
    },
    {
      "cell_type": "code",
      "source": [
        "cv2_imshow(img1)\n",
        "cv2.waitKey(0)"
      ],
      "metadata": {
        "id": "AnFMg5ao3Ip7"
      },
      "execution_count": null,
      "outputs": []
    },
    {
      "cell_type": "code",
      "source": [
        "classNames = []\n",
        "classFile = '/content/coco.names'\n",
        "with open(classFile, 'rt') as f:\n",
        "  classNames = f.read().rstrip('\\n').split('\\n')"
      ],
      "metadata": {
        "id": "Uem09NKOzg3a"
      },
      "execution_count": null,
      "outputs": []
    },
    {
      "cell_type": "code",
      "source": [
        "print(classNames)"
      ],
      "metadata": {
        "id": "zchBZSmmzn5N"
      },
      "execution_count": null,
      "outputs": []
    },
    {
      "cell_type": "code",
      "source": [
        "configPath = '/content/ssd_mobilenet_v3_large_coco_2020_01_14.pbtxt'\n",
        "weightsPath = '/content/frozen_inference_graph.pb'"
      ],
      "metadata": {
        "id": "P88F-O0B0AIR"
      },
      "execution_count": null,
      "outputs": []
    },
    {
      "cell_type": "code",
      "source": [
        "net = cv2.dnn_DetectionModel(weightsPath, configPath)\n",
        "net.setInputSize(320, 320)\n",
        "net.setInputScale(1.0/127.5)\n",
        "net.setInputMean((127.5, 127.5, 127.5))\n",
        "net.setInputSwapRB(True)"
      ],
      "metadata": {
        "id": "go7mNfDM4Opt"
      },
      "execution_count": null,
      "outputs": []
    },
    {
      "cell_type": "code",
      "source": [
        "classIds, confs, bbox = net.detect(img, confThreshold=0.7)"
      ],
      "metadata": {
        "id": "qA5WXop44V3A"
      },
      "execution_count": null,
      "outputs": []
    },
    {
      "cell_type": "code",
      "source": [
        "print(classIds, bbox)"
      ],
      "metadata": {
        "id": "FBT7qrcP4dCx"
      },
      "execution_count": null,
      "outputs": []
    },
    {
      "cell_type": "code",
      "source": [
        "for classId, confidence, box in zip(classIds.flatten(), confs.flatten(), bbox):\n",
        "    x, y, w, h = box\n",
        "    cv2.rectangle(img, (x, y), (x+w, y+h), color=(0,255,0), thickness=3)\n",
        "    cv2.putText(img, classNames[classId-1], (x+10, y+30), cv2.FONT_HERSHEY_COMPLEX, 2, (0, 255, 0), 2)"
      ],
      "metadata": {
        "id": "gk7ukRwk4jG2"
      },
      "execution_count": null,
      "outputs": []
    },
    {
      "cell_type": "code",
      "source": [
        "cv2_imshow(img)"
      ],
      "metadata": {
        "id": "aL3r2X0e4lQi"
      },
      "execution_count": null,
      "outputs": []
    },
    {
      "cell_type": "code",
      "source": [
        "\n",
        "def detect_objects_in_images(image_paths, model_path, config_path):\n",
        "    \"\"\"Detects objects in multiple images using a pre-trained model.\n",
        "\n",
        "    Args:\n",
        "        image_paths: A list of paths to the input images.\n",
        "        model_path: Path to the pre-trained model weights.\n",
        "        config_path: Path to the model configuration file.\n",
        "\n",
        "    Returns:\n",
        "        A list of dictionaries, each containing information about detected objects in a corresponding image.\n",
        "    \"\"\"\n",
        "\n",
        "    results = []\n",
        "    net = cv2.dnn_DetectionModel(model_path, config_path)\n",
        "    net.setInputSize(320, 320)\n",
        "    net.setInputScale(1.0 / 127.5)\n",
        "    net.setInputMean((127.5, 127.5, 127.5))\n",
        "    net.setInputSwapRB(True)\n",
        "\n",
        "    with open('coco.names', 'rt') as f:\n",
        "        classNames = f.read().rstrip('\\n').split('\\n')\n",
        "\n",
        "    for image_path in image_paths:\n",
        "        img = cv2.imread(image_path)\n",
        "        if img is None:\n",
        "            print(f\"Error loading image: {image_path}\")\n",
        "            continue\n",
        "\n",
        "        classIds, confs, bbox = net.detect(img, confThreshold=0.7)\n",
        "\n",
        "        detections = []\n",
        "        for classId, confidence, box in zip(classIds.flatten(), confs.flatten(), bbox):\n",
        "            x, y, w, h = box\n",
        "            detections.append({\n",
        "                'class': classNames[classId - 1],\n",
        "                'confidence': float(confidence),\n",
        "                'bbox': (x, y, w, h)\n",
        "            })\n",
        "\n",
        "        results.append({'image_path': image_path, 'detections': detections})\n",
        "\n",
        "    return results\n",
        "\n",
        "# Example usage\n",
        "image_paths = ['/content/car.jpeg', '/content/cat.jpg']\n",
        "model_path = 'frozen_inference_graph.pb'\n",
        "config_path = 'ssd_mobilenet_v3_large_coco_2020_01_14.pbtxt'\n",
        "\n",
        "detection_results = detect_objects_in_images(image_paths, model_path, config_path)\n",
        "for result in detection_results:\n",
        "    print(f\"Image: {result['image_path']}\")\n",
        "    for detection in result['detections']:\n",
        "        print(f\"  Class: {detection['class']}, Confidence: {detection['confidence']}, Bounding Box: {detection['bbox']}\")"
      ],
      "metadata": {
        "id": "S_hgQxlQ6bpw"
      },
      "execution_count": null,
      "outputs": []
    }
  ]
}
